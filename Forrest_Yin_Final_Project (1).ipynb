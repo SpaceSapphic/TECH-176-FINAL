{
  "nbformat": 4,
  "nbformat_minor": 0,
  "metadata": {
    "colab": {
      "provenance": []
    },
    "kernelspec": {
      "name": "python3",
      "display_name": "Python 3"
    },
    "language_info": {
      "name": "python"
    }
  },
  "cells": [
    {
      "cell_type": "markdown",
      "source": [
        "# Project Code"
      ],
      "metadata": {
        "id": "wDzyIZ-MUViC"
      }
    },
    {
      "cell_type": "markdown",
      "source": [
        "The project Colab notebook should be submitted at the end of the project. To prepare the notebook, consider the following instruction:\n",
        "\n",
        "1. Code in the notebook cells and generate proper outputs with explanatory descriptions (e.g. `print('the RMSE for testing the model on the train dataset:', train_RMSE)`).\n",
        "2. Use comments (using #) for each cell to explain the code.\n",
        "3. All the models covered in this course should be trained and tested on both train and test datasets.\n",
        "\n",
        "\n",
        "> *   For regression problems, Linear Reg, Polynomial Reg (with different degrees), ElasticNet (in case of overfitting problem), SVM (Linear and Poly), Decision Trees, and Random Forest.\n",
        "\n",
        "> *   For Classification problems, SGDClassifier, SVM, Decision Trees, and Random Forest.\n",
        "\n",
        "\n",
        "> *   For regression problems, calculate RMSEs for all the trained models (evaluate models on both train and test datasets). <br>\n",
        "IMPORTANT Note: there should be no overfitting issue in any of the models.\n",
        "\n",
        "> *   For Classification problems, calculate confusion matrix, precision, recall, and f1 score for all the trained models (evaluate models on both train and test datasets. <br>\n",
        "IMPORTANT Note: there should be no overfitting issue in any of the models.\n",
        "\n",
        "\n",
        "\n",
        "\n",
        "\n",
        "\n",
        "\n",
        "\n",
        "\n",
        "\n",
        "\n",
        "\n",
        "\n"
      ],
      "metadata": {
        "id": "_I_wbaOEUb9J"
      }
    },
    {
      "cell_type": "code",
      "source": [
        "!pip install ucimlrepo\n",
        "#installs the uc irvine repo to grab data\n",
        "from ucimlrepo import fetch_ucirepo"
      ],
      "metadata": {
        "id": "c3QIqChFBDOS",
        "colab": {
          "base_uri": "https://localhost:8080/"
        },
        "outputId": "e1a717a3-2296-4744-f9e7-439098316741"
      },
      "execution_count": null,
      "outputs": [
        {
          "output_type": "stream",
          "name": "stdout",
          "text": [
            "Collecting ucimlrepo\n",
            "  Downloading ucimlrepo-0.0.6-py3-none-any.whl (8.0 kB)\n",
            "Installing collected packages: ucimlrepo\n",
            "Successfully installed ucimlrepo-0.0.6\n"
          ]
        }
      ]
    },
    {
      "cell_type": "code",
      "source": [
        "# fetch dataset\n",
        "phishing_websites = fetch_ucirepo(id=327)\n",
        "\n",
        "# data (as pandas dataframes)\n",
        "X = phishing_websites.data.features\n",
        "y = phishing_websites.data.targets\n",
        "\n",
        "# metadata\n",
        "print(phishing_websites.keys)\n",
        "\n",
        "# variable information\n",
        "print(phishing_websites.variables)\n",
        "\n",
        "\n",
        "#this ends the import code borrowed from UCI - the rest of the code is mine :)"
      ],
      "metadata": {
        "colab": {
          "base_uri": "https://localhost:8080/"
        },
        "id": "JvR0n8Tpm2G7",
        "outputId": "bb0e903a-3da4-4e71-d674-2cfc4e3d639c"
      },
      "execution_count": null,
      "outputs": [
        {
          "output_type": "stream",
          "name": "stdout",
          "text": [
            "<built-in method keys of dotdict object at 0x7a6d21464450>\n",
            "                          name     role     type demographic description  \\\n",
            "0            having_ip_address  Feature  Integer        None        None   \n",
            "1                   url_length  Feature  Integer        None        None   \n",
            "2           shortining_service  Feature  Integer        None        None   \n",
            "3             having_at_symbol  Feature  Integer        None        None   \n",
            "4     double_slash_redirecting  Feature  Integer        None        None   \n",
            "5                prefix_suffix  Feature  Integer        None        None   \n",
            "6            having_sub_domain  Feature  Integer        None        None   \n",
            "7               sslfinal_state  Feature  Integer        None        None   \n",
            "8   domain_registration_length  Feature  Integer        None        None   \n",
            "9                      favicon  Feature  Integer        None        None   \n",
            "10                        port  Feature  Integer        None        None   \n",
            "11                 https_token  Feature  Integer        None        None   \n",
            "12                 request_url  Feature  Integer        None        None   \n",
            "13               url_of_anchor  Feature  Integer        None        None   \n",
            "14               links_in_tags  Feature  Integer        None        None   \n",
            "15                         sfh  Feature  Integer        None        None   \n",
            "16         submitting_to_email  Feature  Integer        None        None   \n",
            "17                abnormal_url  Feature  Integer        None        None   \n",
            "18                    redirect  Feature  Integer        None        None   \n",
            "19                on_mouseover  Feature  Integer        None        None   \n",
            "20                  rightclick  Feature  Integer        None        None   \n",
            "21                 popupwindow  Feature  Integer        None        None   \n",
            "22                      iframe  Feature  Integer        None        None   \n",
            "23               age_of_domain  Feature  Integer        None        None   \n",
            "24                   dnsrecord  Feature  Integer        None        None   \n",
            "25                 web_traffic  Feature  Integer        None        None   \n",
            "26                   page_rank  Feature  Integer        None        None   \n",
            "27                google_index  Feature  Integer        None        None   \n",
            "28      links_pointing_to_page  Feature  Integer        None        None   \n",
            "29          statistical_report  Feature  Integer        None        None   \n",
            "30                      result   Target  Integer        None        None   \n",
            "\n",
            "   units missing_values  \n",
            "0   None             no  \n",
            "1   None             no  \n",
            "2   None             no  \n",
            "3   None             no  \n",
            "4   None             no  \n",
            "5   None             no  \n",
            "6   None             no  \n",
            "7   None             no  \n",
            "8   None             no  \n",
            "9   None             no  \n",
            "10  None             no  \n",
            "11  None             no  \n",
            "12  None             no  \n",
            "13  None             no  \n",
            "14  None             no  \n",
            "15  None             no  \n",
            "16  None             no  \n",
            "17  None             no  \n",
            "18  None             no  \n",
            "19  None             no  \n",
            "20  None             no  \n",
            "21  None             no  \n",
            "22  None             no  \n",
            "23  None             no  \n",
            "24  None             no  \n",
            "25  None             no  \n",
            "26  None             no  \n",
            "27  None             no  \n",
            "28  None             no  \n",
            "29  None             no  \n",
            "30  None             no  \n"
          ]
        }
      ]
    },
    {
      "cell_type": "code",
      "source": [
        "#classification problem (phishing or not phishing)\n",
        "import warnings\n",
        "#ignoring the warning \"A column-vector y was passed when a 1d array was expected\" to make code more legible\n",
        "from sklearn.exceptions import DataConversionWarning\n",
        "warnings.filterwarnings(action='ignore', category=DataConversionWarning)\n",
        "\n",
        "#using feature importance to see what is best to use/most influential\n",
        "from sklearn.ensemble import RandomForestClassifier\n",
        "rnd_clf = RandomForestClassifier(n_estimators=500, random_state=42)\n",
        "rnd_clf.fit(X, y)\n",
        "for score, name in zip(rnd_clf.feature_importances_, X.columns):\n",
        "    print(round(score, 2), name)"
      ],
      "metadata": {
        "colab": {
          "base_uri": "https://localhost:8080/"
        },
        "id": "zrdDW3dm948o",
        "outputId": "6bc2cbb5-6b5f-4549-a67b-39bf74386762"
      },
      "execution_count": null,
      "outputs": [
        {
          "output_type": "stream",
          "name": "stdout",
          "text": [
            "0.01 having_ip_address\n",
            "0.01 url_length\n",
            "0.01 shortining_service\n",
            "0.01 having_at_symbol\n",
            "0.0 double_slash_redirecting\n",
            "0.04 prefix_suffix\n",
            "0.07 having_sub_domain\n",
            "0.31 sslfinal_state\n",
            "0.02 domain_registration_length\n",
            "0.0 favicon\n",
            "0.0 port\n",
            "0.01 https_token\n",
            "0.02 request_url\n",
            "0.26 url_of_anchor\n",
            "0.04 links_in_tags\n",
            "0.02 sfh\n",
            "0.01 submitting_to_email\n",
            "0.0 abnormal_url\n",
            "0.01 redirect\n",
            "0.0 on_mouseover\n",
            "0.0 rightclick\n",
            "0.0 popupwindow\n",
            "0.0 iframe\n",
            "0.02 age_of_domain\n",
            "0.01 dnsrecord\n",
            "0.07 web_traffic\n",
            "0.01 page_rank\n",
            "0.01 google_index\n",
            "0.02 links_pointing_to_page\n",
            "0.0 statistical_report\n"
          ]
        }
      ]
    },
    {
      "cell_type": "markdown",
      "source": [
        "Dropping any values that have a 0.0 leaving\n",
        "\n",
        "\n",
        "*   having ip address\n",
        "*   url length\n",
        "*   shortening service\n",
        "*   having @ symbol\n",
        "*   prefix/suffix **\n",
        "*   having subdomain **\n",
        "*   ssl final value ***\n",
        "*   domain registration path **\n",
        "*   https token\n",
        "*   request url **\n",
        "*   url of anchor***\n",
        "*   links in tags\n",
        "*   sfh\n",
        "*   submitting to email\n",
        "*   redirect\n",
        "*   age of domain **\n",
        "*   dnsrecord\n",
        "*   web traffic **\n",
        "*   page rank\n",
        "*   google index\n",
        "*   links pointing to page **\n",
        "\n",
        "** = less than 10 percent, but greater than 1\n",
        "\n",
        "\n",
        "*** = 10 percent or greater\n",
        "\n",
        "\n",
        "\n",
        "\n",
        "\n",
        "\n",
        "\n",
        "\n",
        "\n",
        "\n",
        "\n",
        "\n",
        "\n",
        "\n",
        "\n",
        "\n"
      ],
      "metadata": {
        "id": "XRVp2ukXI4ae"
      }
    },
    {
      "cell_type": "markdown",
      "source": [
        "Greater than 1% most likely to be used/influential than the others, leaving\n",
        "\n",
        "prefix/suffix **\n",
        "\n",
        "having subdomain **\n",
        "\n",
        "ssl final value ***\n",
        "\n",
        "domain registration path **\n",
        "\n",
        "request url **\n",
        "\n",
        "url of anchor***\n",
        "\n",
        "age of domain **\n",
        "\n",
        "web traffic **\n",
        "\n",
        "links pointing to page **\n",
        "\n",
        "\n",
        "\n",
        "---\n",
        "\n",
        ".07 and greater:\n",
        "\n",
        "having_sub_domain\n",
        "\n",
        " sslfinal_state\n",
        "\n",
        " url_of_anchor\n",
        "\n",
        " web_traffic\n",
        "\n"
      ],
      "metadata": {
        "id": "Ag5tD_V0MWa6"
      }
    },
    {
      "cell_type": "code",
      "source": [
        "#SDG Classifier - checking the right amount of values to use first before proceeding with the rest of the project\n",
        "#x1 being the X>1%\n",
        "\n",
        "X1 = X[[\"prefix_suffix\",\"having_sub_domain\",\"sslfinal_state\",\"domain_registration_length\",\"request_url\",\n",
        "       \"url_of_anchor\",\"age_of_domain\", \"web_traffic\", \"links_pointing_to_page\" ]].values\n",
        "\n",
        "#checking how good the model is after pruning varables with 1% or less weight\n",
        "\n",
        "from sklearn.linear_model import SGDClassifier\n",
        "sgd_clf = SGDClassifier(random_state=42)\n",
        "sgd_clf.fit(X1, y)\n",
        "\n",
        "from sklearn.metrics import confusion_matrix\n",
        "from sklearn.model_selection import cross_val_score\n",
        "\n",
        "print(\"X1:\",cross_val_score(sgd_clf, X1, y, cv=3, scoring=\"accuracy\"))\n"
      ],
      "metadata": {
        "id": "uwqjmaZRP-T_",
        "colab": {
          "base_uri": "https://localhost:8080/"
        },
        "outputId": "35b7ed98-07ab-46c9-e60f-1460c046c86b"
      },
      "execution_count": null,
      "outputs": [
        {
          "output_type": "stream",
          "name": "stdout",
          "text": [
            "X1: [0.9156038  0.91207598 0.89850746]\n"
          ]
        }
      ]
    },
    {
      "cell_type": "code",
      "source": [
        "#x2  being 10 values - added one 1% value being google index\n",
        "X2 = X[[\"prefix_suffix\",\"having_sub_domain\",\"sslfinal_state\",\"domain_registration_length\",\"request_url\",\n",
        "       \"url_of_anchor\",\"age_of_domain\", \"web_traffic\", \"links_pointing_to_page\",\"google_index\" ]].values\n",
        "\n",
        "sgd_clf = SGDClassifier(random_state=42)\n",
        "sgd_clf.fit(X2, y)\n",
        "print(\"X2:\",cross_val_score(sgd_clf, X2, y, cv=3, scoring=\"accuracy\"))"
      ],
      "metadata": {
        "colab": {
          "base_uri": "https://localhost:8080/"
        },
        "id": "bQOsB0D9lb9R",
        "outputId": "bc8e3ee3-61b8-4e6f-e264-616463e2596b"
      },
      "execution_count": null,
      "outputs": [
        {
          "output_type": "stream",
          "name": "stdout",
          "text": [
            "X2: [0.91071913 0.91451832 0.8936228 ]\n"
          ]
        }
      ]
    },
    {
      "cell_type": "code",
      "source": [
        "#11 values - chose the first and last values with 1% weight, google index and ip address\n",
        "X3 = X[[\"prefix_suffix\",\"having_sub_domain\",\"sslfinal_state\",\"domain_registration_length\",\"request_url\",\n",
        "       \"url_of_anchor\",\"age_of_domain\", \"web_traffic\", \"links_pointing_to_page\",\"google_index\",\"having_ip_address\"]].values\n",
        "\n",
        "sgd_clf = SGDClassifier(random_state=42)\n",
        "sgd_clf.fit(X3, y)\n",
        "print(\"X3:\",cross_val_score(sgd_clf, X3, y, cv=3, scoring=\"accuracy\"))"
      ],
      "metadata": {
        "colab": {
          "base_uri": "https://localhost:8080/"
        },
        "id": "-rVakCLml8RK",
        "outputId": "72213bc6-2481-4149-d095-41be402e8664"
      },
      "execution_count": null,
      "outputs": [
        {
          "output_type": "stream",
          "name": "stdout",
          "text": [
            "X3: [0.91858887 0.91289009 0.91153324]\n"
          ]
        }
      ]
    },
    {
      "cell_type": "markdown",
      "source": [
        "X3 with 11 values seems to be the best after incrementally adding more 1% values to X1 (12 values decreased the accuracy)"
      ],
      "metadata": {
        "id": "i2-qAVi0m5TH"
      }
    },
    {
      "cell_type": "code",
      "source": [
        "from sklearn.model_selection import train_test_split\n",
        "#splitting and shuffling the set\n",
        "#loading data into arrays to shuffle\n",
        "train_set, test_set, y_train, y_test = train_test_split(X3,y, test_size=0.2, random_state=10)\n",
        "sgd_clf = SGDClassifier(random_state=42)\n",
        "#fitting the training set\n",
        "sgd_clf.fit(train_set, y_train)\n",
        "\n",
        "#performance testing\n",
        "from sklearn.metrics import precision_score, recall_score\n",
        "from sklearn.metrics import confusion_matrix\n",
        "from sklearn.model_selection import cross_val_predict\n",
        "from sklearn.metrics import f1_score\n",
        "\n",
        "\n",
        "#confusion matrixes\n",
        "y_train_pred = cross_val_predict(sgd_clf, train_set, y_train, cv=3)\n",
        "cm_train = confusion_matrix(y_train, y_train_pred)\n",
        "print(\"Confusion matrix of SDGClassifer train set: \\n\", cm_train)\n",
        "\n",
        "y_test_pred = cross_val_predict(sgd_clf, test_set, y_test, cv=3)\n",
        "cm_test = confusion_matrix(y_test, y_test_pred)\n",
        "print(\"Confusion matrix of SDGClassifer test set: \\n\", cm_test)\n",
        "\n",
        "#precision scores\n",
        "print(\"SDGClassifier train set precision score: \",precision_score(y_train, y_train_pred))\n",
        "print(\"SDGClassifier test set precision score: \",precision_score(y_test, y_test_pred))\n",
        "\n",
        "#recall scores\n",
        "print(\"SDGClassifier train set recall score: \",recall_score(y_train, y_train_pred))\n",
        "print(\"SDGClassifier test set recall score: \",recall_score(y_test, y_test_pred))\n",
        "\n",
        "#f1 scores\n",
        "print(\"SDGClassifier train set F1 score: \", f1_score(y_train, y_train_pred))\n",
        "print(\"SDGClassifier test set F1 score: \", f1_score(y_test, y_test_pred))"
      ],
      "metadata": {
        "colab": {
          "base_uri": "https://localhost:8080/"
        },
        "id": "fLURc3sNpZNZ",
        "outputId": "223ba0d4-1171-4de2-b046-362a1fa6053f"
      },
      "execution_count": null,
      "outputs": [
        {
          "output_type": "stream",
          "name": "stdout",
          "text": [
            "Confusion matrix of SDGClassifer train set: \n",
            " [[3502  435]\n",
            " [ 354 4553]]\n",
            "Confusion matrix of SDGClassifer test set: \n",
            " [[ 810  151]\n",
            " [  85 1165]]\n",
            "SDGClassifier train set precision score:  0.9127906976744186\n",
            "SDGClassifier test set precision score:  0.8852583586626139\n",
            "SDGClassifier train set recall score:  0.9278581618096596\n",
            "SDGClassifier test set recall score:  0.932\n",
            "SDGClassifier train set F1 score:  0.9202627589691763\n",
            "SDGClassifier test set F1 score:  0.9080280592361653\n"
          ]
        }
      ]
    },
    {
      "cell_type": "code",
      "source": [
        "#SVC\n",
        "import numpy as np\n",
        "from sklearn.pipeline import make_pipeline\n",
        "from sklearn.preprocessing import StandardScaler\n",
        "from sklearn.svm import LinearSVC\n",
        "\n",
        "\n",
        "svm_clf = make_pipeline(StandardScaler(),\n",
        "                        LinearSVC(C=1, random_state=42))\n",
        "svm_clf.fit(train_set, y_train)\n",
        "\n",
        "#performance testing\n",
        "\n",
        "#confusion matrixes\n",
        "y_train_pred = cross_val_predict(svm_clf, train_set, y_train, cv=3)\n",
        "cm_train = confusion_matrix(y_train, y_train_pred)\n",
        "print(\"Confusion matrix of SVCr train set: \\n\", cm_train)\n",
        "\n",
        "y_test_pred = cross_val_predict(svm_clf, test_set, y_test, cv=3)\n",
        "cm_test = confusion_matrix(y_test, y_test_pred)\n",
        "print(\"Confusion matrix of SVC test set: \\n\", cm_test)\n",
        "\n",
        "\n",
        "#precision scores\n",
        "print(\"SVC train set precision score: \",precision_score(y_train, y_train_pred))\n",
        "print(\"SVC test set precision score: \",precision_score(y_test, y_test_pred))\n",
        "\n",
        "#recall scores\n",
        "print(\"SVC train set recall score: \",recall_score(y_train, y_train_pred))\n",
        "print(\"SVC test set recall score: \",recall_score(y_test, y_test_pred))\n",
        "\n",
        "#f1 scores\n",
        "print(\"SVC train set F1 score: \", f1_score(y_train, y_train_pred))\n",
        "print(\"SVC test set F1 score: \", f1_score(y_test, y_test_pred))"
      ],
      "metadata": {
        "id": "LaiZh6rrQB4o",
        "colab": {
          "base_uri": "https://localhost:8080/"
        },
        "outputId": "d6f7b6b5-b48d-440d-a2c9-9be0982626bf"
      },
      "execution_count": null,
      "outputs": [
        {
          "output_type": "stream",
          "name": "stdout",
          "text": [
            "Confusion matrix of SVCr train set: \n",
            " [[3472  465]\n",
            " [ 283 4624]]\n",
            "Confusion matrix of SVC test set: \n",
            " [[ 844  117]\n",
            " [  83 1167]]\n",
            "SVC train set precision score:  0.9086264492041658\n",
            "SVC test set precision score:  0.9088785046728972\n",
            "SVC train set recall score:  0.9423272875484002\n",
            "SVC test set recall score:  0.9336\n",
            "SVC train set F1 score:  0.9251700680272108\n",
            "SVC test set F1 score:  0.9210734017363852\n"
          ]
        }
      ]
    },
    {
      "cell_type": "code",
      "source": [
        "#Decision Trees\n",
        "from sklearn.tree import DecisionTreeClassifier\n",
        "#4 to limit overfitting\n",
        "tree_clf = DecisionTreeClassifier(max_depth=4, random_state=42)\n",
        "tree_clf.fit(train_set, y_train)\n",
        "\n",
        "#performance testing\n",
        "\n",
        "#confusion matrixes\n",
        "y_train_pred_dt = cross_val_predict(tree_clf, train_set, y_train, cv=3)\n",
        "cm_train = confusion_matrix(y_train, y_train_pred)\n",
        "print(\"Confusion matrix of DeciscionTree train set: \\n\", cm_train)\n",
        "\n",
        "y_test_pred_dt = cross_val_predict(tree_clf, test_set, y_test, cv=3)\n",
        "cm_test = confusion_matrix(y_test, y_test_pred)\n",
        "print(\"Confusion matrix of DeciscionTree test set: \\n\", cm_test)\n",
        "\n",
        "#precision scores\n",
        "print(\"DeciscionTree train set precision score: \",precision_score(y_train, y_train_pred_dt))\n",
        "print(\"DeciscionTree test set precision score: \",precision_score(y_test, y_test_pred_dt))\n",
        "\n",
        "#recall scores\n",
        "print(\"DeciscionTree train set recall score: \",recall_score(y_train, y_train_pred_dt))\n",
        "print(\"DeciscionTree test set recall score: \",recall_score(y_test, y_test_pred_dt))\n",
        "\n",
        "#f1 scores\n",
        "print(\"DeciscionTree train set F1 score: \", f1_score(y_train, y_train_pred_dt))\n",
        "print(\"DeciscionTree test set F1 score: \", f1_score(y_test, y_test_pred_dt))\n",
        "\n",
        "\n",
        "#Graphviz\n",
        "from sklearn.tree import export_graphviz\n",
        "from graphviz import Source\n",
        "export_graphviz(\n",
        "        tree_clf,\n",
        "        out_file=str(\"decision_tree.dot\"),\n",
        "        feature_names=[\"prefix_suffix\",\"having_sub_domain\",\"sslfinal_state\",\"domain_registration_length\",\"request_url\",\n",
        "       \"url_of_anchor\",\"age_of_domain\", \"web_traffic\", \"links_pointing_to_page\",\"google_index\",\"having_ip_address\"],\n",
        "        class_names=[\"-1\",\"1\"],\n",
        "        rounded=True,\n",
        "        filled=True\n",
        "    )\n",
        "Source.from_file(\"decision_tree.dot\")"
      ],
      "metadata": {
        "id": "qFAZvQOCQEU3",
        "colab": {
          "base_uri": "https://localhost:8080/",
          "height": 965
        },
        "outputId": "06f14010-7c87-4bac-8483-e6139d4b7540"
      },
      "execution_count": null,
      "outputs": [
        {
          "output_type": "stream",
          "name": "stdout",
          "text": [
            "Confusion matrix of DeciscionTree train set: \n",
            " [[3502  435]\n",
            " [ 354 4553]]\n",
            "Confusion matrix of DeciscionTree test set: \n",
            " [[ 810  151]\n",
            " [  85 1165]]\n",
            "DeciscionTree train set precision score:  0.9254305977710233\n",
            "DeciscionTree test set precision score:  0.9132492113564669\n",
            "DeciscionTree train set recall score:  0.9307112288567353\n",
            "DeciscionTree test set recall score:  0.9264\n",
            "DeciscionTree train set F1 score:  0.9280634017476123\n",
            "DeciscionTree test set F1 score:  0.9197776012708498\n"
          ]
        },
        {
          "output_type": "execute_result",
          "data": {
            "image/svg+xml": "<?xml version=\"1.0\" encoding=\"UTF-8\" standalone=\"no\"?>\n<!DOCTYPE svg PUBLIC \"-//W3C//DTD SVG 1.1//EN\"\n \"http://www.w3.org/Graphics/SVG/1.1/DTD/svg11.dtd\">\n<!-- Generated by graphviz version 2.43.0 (0)\n -->\n<!-- Title: Tree Pages: 1 -->\n<svg width=\"1183pt\" height=\"552pt\"\n viewBox=\"0.00 0.00 1183.00 552.00\" xmlns=\"http://www.w3.org/2000/svg\" xmlns:xlink=\"http://www.w3.org/1999/xlink\">\n<g id=\"graph0\" class=\"graph\" transform=\"scale(1 1) rotate(0) translate(4 548)\">\n<title>Tree</title>\n<polygon fill=\"white\" stroke=\"transparent\" points=\"-4,4 -4,-548 1179,-548 1179,4 -4,4\"/>\n<!-- 0 -->\n<g id=\"node1\" class=\"node\">\n<title>0</title>\n<path fill=\"#d8ecfa\" stroke=\"black\" d=\"M465.5,-544C465.5,-544 349.5,-544 349.5,-544 343.5,-544 337.5,-538 337.5,-532 337.5,-532 337.5,-473 337.5,-473 337.5,-467 343.5,-461 349.5,-461 349.5,-461 465.5,-461 465.5,-461 471.5,-461 477.5,-467 477.5,-473 477.5,-473 477.5,-532 477.5,-532 477.5,-538 471.5,-544 465.5,-544\"/>\n<text text-anchor=\"middle\" x=\"407.5\" y=\"-528.8\" font-family=\"Helvetica,sans-Serif\" font-size=\"14.00\">sslfinal_state &lt;= 0.5</text>\n<text text-anchor=\"middle\" x=\"407.5\" y=\"-513.8\" font-family=\"Helvetica,sans-Serif\" font-size=\"14.00\">gini = 0.494</text>\n<text text-anchor=\"middle\" x=\"407.5\" y=\"-498.8\" font-family=\"Helvetica,sans-Serif\" font-size=\"14.00\">samples = 8844</text>\n<text text-anchor=\"middle\" x=\"407.5\" y=\"-483.8\" font-family=\"Helvetica,sans-Serif\" font-size=\"14.00\">value = [3937, 4907]</text>\n<text text-anchor=\"middle\" x=\"407.5\" y=\"-468.8\" font-family=\"Helvetica,sans-Serif\" font-size=\"14.00\">class = 1</text>\n</g>\n<!-- 1 -->\n<g id=\"node2\" class=\"node\">\n<title>1</title>\n<path fill=\"#e89051\" stroke=\"black\" d=\"M383.5,-425C383.5,-425 261.5,-425 261.5,-425 255.5,-425 249.5,-419 249.5,-413 249.5,-413 249.5,-354 249.5,-354 249.5,-348 255.5,-342 261.5,-342 261.5,-342 383.5,-342 383.5,-342 389.5,-342 395.5,-348 395.5,-354 395.5,-354 395.5,-413 395.5,-413 395.5,-419 389.5,-425 383.5,-425\"/>\n<text text-anchor=\"middle\" x=\"322.5\" y=\"-409.8\" font-family=\"Helvetica,sans-Serif\" font-size=\"14.00\">url_of_anchor &lt;= &#45;0.5</text>\n<text text-anchor=\"middle\" x=\"322.5\" y=\"-394.8\" font-family=\"Helvetica,sans-Serif\" font-size=\"14.00\">gini = 0.194</text>\n<text text-anchor=\"middle\" x=\"322.5\" y=\"-379.8\" font-family=\"Helvetica,sans-Serif\" font-size=\"14.00\">samples = 3805</text>\n<text text-anchor=\"middle\" x=\"322.5\" y=\"-364.8\" font-family=\"Helvetica,sans-Serif\" font-size=\"14.00\">value = [3392, 413]</text>\n<text text-anchor=\"middle\" x=\"322.5\" y=\"-349.8\" font-family=\"Helvetica,sans-Serif\" font-size=\"14.00\">class = &#45;1</text>\n</g>\n<!-- 0&#45;&gt;1 -->\n<g id=\"edge1\" class=\"edge\">\n<title>0&#45;&gt;1</title>\n<path fill=\"none\" stroke=\"black\" d=\"M378.01,-460.91C371.55,-452.01 364.64,-442.51 357.98,-433.33\"/>\n<polygon fill=\"black\" stroke=\"black\" points=\"360.65,-431.05 351.94,-425.02 354.98,-435.17 360.65,-431.05\"/>\n<text text-anchor=\"middle\" x=\"348.03\" y=\"-446.01\" font-family=\"Helvetica,sans-Serif\" font-size=\"14.00\">True</text>\n</g>\n<!-- 8 -->\n<g id=\"node9\" class=\"node\">\n<title>8</title>\n<path fill=\"#51a9e8\" stroke=\"black\" d=\"M630.5,-425C630.5,-425 508.5,-425 508.5,-425 502.5,-425 496.5,-419 496.5,-413 496.5,-413 496.5,-354 496.5,-354 496.5,-348 502.5,-342 508.5,-342 508.5,-342 630.5,-342 630.5,-342 636.5,-342 642.5,-348 642.5,-354 642.5,-354 642.5,-413 642.5,-413 642.5,-419 636.5,-425 630.5,-425\"/>\n<text text-anchor=\"middle\" x=\"569.5\" y=\"-409.8\" font-family=\"Helvetica,sans-Serif\" font-size=\"14.00\">url_of_anchor &lt;= &#45;0.5</text>\n<text text-anchor=\"middle\" x=\"569.5\" y=\"-394.8\" font-family=\"Helvetica,sans-Serif\" font-size=\"14.00\">gini = 0.193</text>\n<text text-anchor=\"middle\" x=\"569.5\" y=\"-379.8\" font-family=\"Helvetica,sans-Serif\" font-size=\"14.00\">samples = 5039</text>\n<text text-anchor=\"middle\" x=\"569.5\" y=\"-364.8\" font-family=\"Helvetica,sans-Serif\" font-size=\"14.00\">value = [545, 4494]</text>\n<text text-anchor=\"middle\" x=\"569.5\" y=\"-349.8\" font-family=\"Helvetica,sans-Serif\" font-size=\"14.00\">class = 1</text>\n</g>\n<!-- 0&#45;&gt;8 -->\n<g id=\"edge8\" class=\"edge\">\n<title>0&#45;&gt;8</title>\n<path fill=\"none\" stroke=\"black\" d=\"M463.71,-460.91C477.02,-451.29 491.33,-440.95 504.99,-431.09\"/>\n<polygon fill=\"black\" stroke=\"black\" points=\"507.34,-433.71 513.39,-425.02 503.24,-428.04 507.34,-433.71\"/>\n<text text-anchor=\"middle\" x=\"509.41\" y=\"-446\" font-family=\"Helvetica,sans-Serif\" font-size=\"14.00\">False</text>\n</g>\n<!-- 2 -->\n<g id=\"node3\" class=\"node\">\n<title>2</title>\n<path fill=\"#e58139\" stroke=\"black\" d=\"M227,-298.5C227,-298.5 134,-298.5 134,-298.5 128,-298.5 122,-292.5 122,-286.5 122,-286.5 122,-242.5 122,-242.5 122,-236.5 128,-230.5 134,-230.5 134,-230.5 227,-230.5 227,-230.5 233,-230.5 239,-236.5 239,-242.5 239,-242.5 239,-286.5 239,-286.5 239,-292.5 233,-298.5 227,-298.5\"/>\n<text text-anchor=\"middle\" x=\"180.5\" y=\"-283.3\" font-family=\"Helvetica,sans-Serif\" font-size=\"14.00\">gini = 0.0</text>\n<text text-anchor=\"middle\" x=\"180.5\" y=\"-268.3\" font-family=\"Helvetica,sans-Serif\" font-size=\"14.00\">samples = 2457</text>\n<text text-anchor=\"middle\" x=\"180.5\" y=\"-253.3\" font-family=\"Helvetica,sans-Serif\" font-size=\"14.00\">value = [2457, 0]</text>\n<text text-anchor=\"middle\" x=\"180.5\" y=\"-238.3\" font-family=\"Helvetica,sans-Serif\" font-size=\"14.00\">class = &#45;1</text>\n</g>\n<!-- 1&#45;&gt;2 -->\n<g id=\"edge2\" class=\"edge\">\n<title>1&#45;&gt;2</title>\n<path fill=\"none\" stroke=\"black\" d=\"M273.23,-341.91C258.77,-329.99 242.97,-316.98 228.59,-305.12\"/>\n<polygon fill=\"black\" stroke=\"black\" points=\"230.7,-302.32 220.75,-298.67 226.25,-307.73 230.7,-302.32\"/>\n</g>\n<!-- 3 -->\n<g id=\"node4\" class=\"node\">\n<title>3</title>\n<path fill=\"#f0b990\" stroke=\"black\" d=\"M376,-306C376,-306 269,-306 269,-306 263,-306 257,-300 257,-294 257,-294 257,-235 257,-235 257,-229 263,-223 269,-223 269,-223 376,-223 376,-223 382,-223 388,-229 388,-235 388,-235 388,-294 388,-294 388,-300 382,-306 376,-306\"/>\n<text text-anchor=\"middle\" x=\"322.5\" y=\"-290.8\" font-family=\"Helvetica,sans-Serif\" font-size=\"14.00\">prefix_suffix &lt;= 0.0</text>\n<text text-anchor=\"middle\" x=\"322.5\" y=\"-275.8\" font-family=\"Helvetica,sans-Serif\" font-size=\"14.00\">gini = 0.425</text>\n<text text-anchor=\"middle\" x=\"322.5\" y=\"-260.8\" font-family=\"Helvetica,sans-Serif\" font-size=\"14.00\">samples = 1348</text>\n<text text-anchor=\"middle\" x=\"322.5\" y=\"-245.8\" font-family=\"Helvetica,sans-Serif\" font-size=\"14.00\">value = [935, 413]</text>\n<text text-anchor=\"middle\" x=\"322.5\" y=\"-230.8\" font-family=\"Helvetica,sans-Serif\" font-size=\"14.00\">class = &#45;1</text>\n</g>\n<!-- 1&#45;&gt;3 -->\n<g id=\"edge3\" class=\"edge\">\n<title>1&#45;&gt;3</title>\n<path fill=\"none\" stroke=\"black\" d=\"M322.5,-341.91C322.5,-333.65 322.5,-324.86 322.5,-316.3\"/>\n<polygon fill=\"black\" stroke=\"black\" points=\"326,-316.02 322.5,-306.02 319,-316.02 326,-316.02\"/>\n</g>\n<!-- 4 -->\n<g id=\"node5\" class=\"node\">\n<title>4</title>\n<path fill=\"#eeae7f\" stroke=\"black\" d=\"M241,-187C241,-187 138,-187 138,-187 132,-187 126,-181 126,-175 126,-175 126,-116 126,-116 126,-110 132,-104 138,-104 138,-104 241,-104 241,-104 247,-104 253,-110 253,-116 253,-116 253,-175 253,-175 253,-181 247,-187 241,-187\"/>\n<text text-anchor=\"middle\" x=\"189.5\" y=\"-171.8\" font-family=\"Helvetica,sans-Serif\" font-size=\"14.00\">request_url &lt;= 0.0</text>\n<text text-anchor=\"middle\" x=\"189.5\" y=\"-156.8\" font-family=\"Helvetica,sans-Serif\" font-size=\"14.00\">gini = 0.387</text>\n<text text-anchor=\"middle\" x=\"189.5\" y=\"-141.8\" font-family=\"Helvetica,sans-Serif\" font-size=\"14.00\">samples = 1267</text>\n<text text-anchor=\"middle\" x=\"189.5\" y=\"-126.8\" font-family=\"Helvetica,sans-Serif\" font-size=\"14.00\">value = [935, 332]</text>\n<text text-anchor=\"middle\" x=\"189.5\" y=\"-111.8\" font-family=\"Helvetica,sans-Serif\" font-size=\"14.00\">class = &#45;1</text>\n</g>\n<!-- 3&#45;&gt;4 -->\n<g id=\"edge4\" class=\"edge\">\n<title>3&#45;&gt;4</title>\n<path fill=\"none\" stroke=\"black\" d=\"M276.36,-222.91C265.63,-213.47 254.12,-203.34 243.1,-193.65\"/>\n<polygon fill=\"black\" stroke=\"black\" points=\"245.38,-191 235.56,-187.02 240.76,-196.25 245.38,-191\"/>\n</g>\n<!-- 7 -->\n<g id=\"node8\" class=\"node\">\n<title>7</title>\n<path fill=\"#399de5\" stroke=\"black\" d=\"M361.5,-179.5C361.5,-179.5 283.5,-179.5 283.5,-179.5 277.5,-179.5 271.5,-173.5 271.5,-167.5 271.5,-167.5 271.5,-123.5 271.5,-123.5 271.5,-117.5 277.5,-111.5 283.5,-111.5 283.5,-111.5 361.5,-111.5 361.5,-111.5 367.5,-111.5 373.5,-117.5 373.5,-123.5 373.5,-123.5 373.5,-167.5 373.5,-167.5 373.5,-173.5 367.5,-179.5 361.5,-179.5\"/>\n<text text-anchor=\"middle\" x=\"322.5\" y=\"-164.3\" font-family=\"Helvetica,sans-Serif\" font-size=\"14.00\">gini = 0.0</text>\n<text text-anchor=\"middle\" x=\"322.5\" y=\"-149.3\" font-family=\"Helvetica,sans-Serif\" font-size=\"14.00\">samples = 81</text>\n<text text-anchor=\"middle\" x=\"322.5\" y=\"-134.3\" font-family=\"Helvetica,sans-Serif\" font-size=\"14.00\">value = [0, 81]</text>\n<text text-anchor=\"middle\" x=\"322.5\" y=\"-119.3\" font-family=\"Helvetica,sans-Serif\" font-size=\"14.00\">class = 1</text>\n</g>\n<!-- 3&#45;&gt;7 -->\n<g id=\"edge7\" class=\"edge\">\n<title>3&#45;&gt;7</title>\n<path fill=\"none\" stroke=\"black\" d=\"M322.5,-222.91C322.5,-212.2 322.5,-200.62 322.5,-189.78\"/>\n<polygon fill=\"black\" stroke=\"black\" points=\"326,-189.67 322.5,-179.67 319,-189.67 326,-189.67\"/>\n</g>\n<!-- 5 -->\n<g id=\"node6\" class=\"node\">\n<title>5</title>\n<path fill=\"#ea985c\" stroke=\"black\" d=\"M105,-68C105,-68 12,-68 12,-68 6,-68 0,-62 0,-56 0,-56 0,-12 0,-12 0,-6 6,0 12,0 12,0 105,0 105,0 111,0 117,-6 117,-12 117,-12 117,-56 117,-56 117,-62 111,-68 105,-68\"/>\n<text text-anchor=\"middle\" x=\"58.5\" y=\"-52.8\" font-family=\"Helvetica,sans-Serif\" font-size=\"14.00\">gini = 0.258</text>\n<text text-anchor=\"middle\" x=\"58.5\" y=\"-37.8\" font-family=\"Helvetica,sans-Serif\" font-size=\"14.00\">samples = 619</text>\n<text text-anchor=\"middle\" x=\"58.5\" y=\"-22.8\" font-family=\"Helvetica,sans-Serif\" font-size=\"14.00\">value = [525, 94]</text>\n<text text-anchor=\"middle\" x=\"58.5\" y=\"-7.8\" font-family=\"Helvetica,sans-Serif\" font-size=\"14.00\">class = &#45;1</text>\n</g>\n<!-- 4&#45;&gt;5 -->\n<g id=\"edge5\" class=\"edge\">\n<title>4&#45;&gt;5</title>\n<path fill=\"none\" stroke=\"black\" d=\"M140.72,-103.73C129.37,-94.24 117.31,-84.16 106.01,-74.72\"/>\n<polygon fill=\"black\" stroke=\"black\" points=\"108.26,-72.03 98.34,-68.3 103.77,-77.4 108.26,-72.03\"/>\n</g>\n<!-- 6 -->\n<g id=\"node7\" class=\"node\">\n<title>6</title>\n<path fill=\"#f4caac\" stroke=\"black\" d=\"M248,-68C248,-68 147,-68 147,-68 141,-68 135,-62 135,-56 135,-56 135,-12 135,-12 135,-6 141,0 147,0 147,0 248,0 248,0 254,0 260,-6 260,-12 260,-12 260,-56 260,-56 260,-62 254,-68 248,-68\"/>\n<text text-anchor=\"middle\" x=\"197.5\" y=\"-52.8\" font-family=\"Helvetica,sans-Serif\" font-size=\"14.00\">gini = 0.465</text>\n<text text-anchor=\"middle\" x=\"197.5\" y=\"-37.8\" font-family=\"Helvetica,sans-Serif\" font-size=\"14.00\">samples = 648</text>\n<text text-anchor=\"middle\" x=\"197.5\" y=\"-22.8\" font-family=\"Helvetica,sans-Serif\" font-size=\"14.00\">value = [410, 238]</text>\n<text text-anchor=\"middle\" x=\"197.5\" y=\"-7.8\" font-family=\"Helvetica,sans-Serif\" font-size=\"14.00\">class = &#45;1</text>\n</g>\n<!-- 4&#45;&gt;6 -->\n<g id=\"edge6\" class=\"edge\">\n<title>4&#45;&gt;6</title>\n<path fill=\"none\" stroke=\"black\" d=\"M192.48,-103.73C193.09,-95.43 193.73,-86.67 194.34,-78.28\"/>\n<polygon fill=\"black\" stroke=\"black\" points=\"197.83,-78.53 195.07,-68.3 190.85,-78.02 197.83,-78.53\"/>\n</g>\n<!-- 9 -->\n<g id=\"node10\" class=\"node\">\n<title>9</title>\n<path fill=\"#e9965a\" stroke=\"black\" d=\"M623,-306C623,-306 516,-306 516,-306 510,-306 504,-300 504,-294 504,-294 504,-235 504,-235 504,-229 510,-223 516,-223 516,-223 623,-223 623,-223 629,-223 635,-229 635,-235 635,-235 635,-294 635,-294 635,-300 629,-306 623,-306\"/>\n<text text-anchor=\"middle\" x=\"569.5\" y=\"-290.8\" font-family=\"Helvetica,sans-Serif\" font-size=\"14.00\">prefix_suffix &lt;= 0.0</text>\n<text text-anchor=\"middle\" x=\"569.5\" y=\"-275.8\" font-family=\"Helvetica,sans-Serif\" font-size=\"14.00\">gini = 0.247</text>\n<text text-anchor=\"middle\" x=\"569.5\" y=\"-260.8\" font-family=\"Helvetica,sans-Serif\" font-size=\"14.00\">samples = 208</text>\n<text text-anchor=\"middle\" x=\"569.5\" y=\"-245.8\" font-family=\"Helvetica,sans-Serif\" font-size=\"14.00\">value = [178, 30]</text>\n<text text-anchor=\"middle\" x=\"569.5\" y=\"-230.8\" font-family=\"Helvetica,sans-Serif\" font-size=\"14.00\">class = &#45;1</text>\n</g>\n<!-- 8&#45;&gt;9 -->\n<g id=\"edge9\" class=\"edge\">\n<title>8&#45;&gt;9</title>\n<path fill=\"none\" stroke=\"black\" d=\"M569.5,-341.91C569.5,-333.65 569.5,-324.86 569.5,-316.3\"/>\n<polygon fill=\"black\" stroke=\"black\" points=\"573,-316.02 569.5,-306.02 566,-316.02 573,-316.02\"/>\n</g>\n<!-- 14 -->\n<g id=\"node15\" class=\"node\">\n<title>14</title>\n<path fill=\"#49a5e7\" stroke=\"black\" d=\"M851.5,-306C851.5,-306 743.5,-306 743.5,-306 737.5,-306 731.5,-300 731.5,-294 731.5,-294 731.5,-235 731.5,-235 731.5,-229 737.5,-223 743.5,-223 743.5,-223 851.5,-223 851.5,-223 857.5,-223 863.5,-229 863.5,-235 863.5,-235 863.5,-294 863.5,-294 863.5,-300 857.5,-306 851.5,-306\"/>\n<text text-anchor=\"middle\" x=\"797.5\" y=\"-290.8\" font-family=\"Helvetica,sans-Serif\" font-size=\"14.00\">web_traffic &lt;= 0.5</text>\n<text text-anchor=\"middle\" x=\"797.5\" y=\"-275.8\" font-family=\"Helvetica,sans-Serif\" font-size=\"14.00\">gini = 0.14</text>\n<text text-anchor=\"middle\" x=\"797.5\" y=\"-260.8\" font-family=\"Helvetica,sans-Serif\" font-size=\"14.00\">samples = 4831</text>\n<text text-anchor=\"middle\" x=\"797.5\" y=\"-245.8\" font-family=\"Helvetica,sans-Serif\" font-size=\"14.00\">value = [367, 4464]</text>\n<text text-anchor=\"middle\" x=\"797.5\" y=\"-230.8\" font-family=\"Helvetica,sans-Serif\" font-size=\"14.00\">class = 1</text>\n</g>\n<!-- 8&#45;&gt;14 -->\n<g id=\"edge14\" class=\"edge\">\n<title>8&#45;&gt;14</title>\n<path fill=\"none\" stroke=\"black\" d=\"M642.58,-345C668.1,-331.9 696.77,-317.19 722.44,-304.02\"/>\n<polygon fill=\"black\" stroke=\"black\" points=\"724.09,-307.1 731.39,-299.43 720.89,-300.88 724.09,-307.1\"/>\n</g>\n<!-- 10 -->\n<g id=\"node11\" class=\"node\">\n<title>10</title>\n<path fill=\"#e78c4b\" stroke=\"black\" d=\"M581.5,-187C581.5,-187 403.5,-187 403.5,-187 397.5,-187 391.5,-181 391.5,-175 391.5,-175 391.5,-116 391.5,-116 391.5,-110 397.5,-104 403.5,-104 403.5,-104 581.5,-104 581.5,-104 587.5,-104 593.5,-110 593.5,-116 593.5,-116 593.5,-175 593.5,-175 593.5,-181 587.5,-187 581.5,-187\"/>\n<text text-anchor=\"middle\" x=\"492.5\" y=\"-171.8\" font-family=\"Helvetica,sans-Serif\" font-size=\"14.00\">links_pointing_to_page &lt;= &#45;0.5</text>\n<text text-anchor=\"middle\" x=\"492.5\" y=\"-156.8\" font-family=\"Helvetica,sans-Serif\" font-size=\"14.00\">gini = 0.151</text>\n<text text-anchor=\"middle\" x=\"492.5\" y=\"-141.8\" font-family=\"Helvetica,sans-Serif\" font-size=\"14.00\">samples = 194</text>\n<text text-anchor=\"middle\" x=\"492.5\" y=\"-126.8\" font-family=\"Helvetica,sans-Serif\" font-size=\"14.00\">value = [178, 16]</text>\n<text text-anchor=\"middle\" x=\"492.5\" y=\"-111.8\" font-family=\"Helvetica,sans-Serif\" font-size=\"14.00\">class = &#45;1</text>\n</g>\n<!-- 9&#45;&gt;10 -->\n<g id=\"edge10\" class=\"edge\">\n<title>9&#45;&gt;10</title>\n<path fill=\"none\" stroke=\"black\" d=\"M542.79,-222.91C536.99,-214.1 530.8,-204.7 524.82,-195.61\"/>\n<polygon fill=\"black\" stroke=\"black\" points=\"527.59,-193.45 519.17,-187.02 521.74,-197.3 527.59,-193.45\"/>\n</g>\n<!-- 13 -->\n<g id=\"node14\" class=\"node\">\n<title>13</title>\n<path fill=\"#399de5\" stroke=\"black\" d=\"M701.5,-179.5C701.5,-179.5 623.5,-179.5 623.5,-179.5 617.5,-179.5 611.5,-173.5 611.5,-167.5 611.5,-167.5 611.5,-123.5 611.5,-123.5 611.5,-117.5 617.5,-111.5 623.5,-111.5 623.5,-111.5 701.5,-111.5 701.5,-111.5 707.5,-111.5 713.5,-117.5 713.5,-123.5 713.5,-123.5 713.5,-167.5 713.5,-167.5 713.5,-173.5 707.5,-179.5 701.5,-179.5\"/>\n<text text-anchor=\"middle\" x=\"662.5\" y=\"-164.3\" font-family=\"Helvetica,sans-Serif\" font-size=\"14.00\">gini = 0.0</text>\n<text text-anchor=\"middle\" x=\"662.5\" y=\"-149.3\" font-family=\"Helvetica,sans-Serif\" font-size=\"14.00\">samples = 14</text>\n<text text-anchor=\"middle\" x=\"662.5\" y=\"-134.3\" font-family=\"Helvetica,sans-Serif\" font-size=\"14.00\">value = [0, 14]</text>\n<text text-anchor=\"middle\" x=\"662.5\" y=\"-119.3\" font-family=\"Helvetica,sans-Serif\" font-size=\"14.00\">class = 1</text>\n</g>\n<!-- 9&#45;&gt;13 -->\n<g id=\"edge13\" class=\"edge\">\n<title>9&#45;&gt;13</title>\n<path fill=\"none\" stroke=\"black\" d=\"M601.77,-222.91C610.8,-211.54 620.63,-199.18 629.69,-187.77\"/>\n<polygon fill=\"black\" stroke=\"black\" points=\"632.65,-189.67 636.14,-179.67 627.17,-185.32 632.65,-189.67\"/>\n</g>\n<!-- 11 -->\n<g id=\"node12\" class=\"node\">\n<title>11</title>\n<path fill=\"#52a9e8\" stroke=\"black\" d=\"M419,-68C419,-68 348,-68 348,-68 342,-68 336,-62 336,-56 336,-56 336,-12 336,-12 336,-6 342,0 348,0 348,0 419,0 419,0 425,0 431,-6 431,-12 431,-12 431,-56 431,-56 431,-62 425,-68 419,-68\"/>\n<text text-anchor=\"middle\" x=\"383.5\" y=\"-52.8\" font-family=\"Helvetica,sans-Serif\" font-size=\"14.00\">gini = 0.198</text>\n<text text-anchor=\"middle\" x=\"383.5\" y=\"-37.8\" font-family=\"Helvetica,sans-Serif\" font-size=\"14.00\">samples = 9</text>\n<text text-anchor=\"middle\" x=\"383.5\" y=\"-22.8\" font-family=\"Helvetica,sans-Serif\" font-size=\"14.00\">value = [1, 8]</text>\n<text text-anchor=\"middle\" x=\"383.5\" y=\"-7.8\" font-family=\"Helvetica,sans-Serif\" font-size=\"14.00\">class = 1</text>\n</g>\n<!-- 10&#45;&gt;11 -->\n<g id=\"edge11\" class=\"edge\">\n<title>10&#45;&gt;11</title>\n<path fill=\"none\" stroke=\"black\" d=\"M451.91,-103.73C442.74,-94.51 433.01,-84.74 423.85,-75.53\"/>\n<polygon fill=\"black\" stroke=\"black\" points=\"426.18,-72.92 416.65,-68.3 421.22,-77.86 426.18,-72.92\"/>\n</g>\n<!-- 12 -->\n<g id=\"node13\" class=\"node\">\n<title>12</title>\n<path fill=\"#e68742\" stroke=\"black\" d=\"M547.5,-68C547.5,-68 461.5,-68 461.5,-68 455.5,-68 449.5,-62 449.5,-56 449.5,-56 449.5,-12 449.5,-12 449.5,-6 455.5,0 461.5,0 461.5,0 547.5,0 547.5,0 553.5,0 559.5,-6 559.5,-12 559.5,-12 559.5,-56 559.5,-56 559.5,-62 553.5,-68 547.5,-68\"/>\n<text text-anchor=\"middle\" x=\"504.5\" y=\"-52.8\" font-family=\"Helvetica,sans-Serif\" font-size=\"14.00\">gini = 0.083</text>\n<text text-anchor=\"middle\" x=\"504.5\" y=\"-37.8\" font-family=\"Helvetica,sans-Serif\" font-size=\"14.00\">samples = 185</text>\n<text text-anchor=\"middle\" x=\"504.5\" y=\"-22.8\" font-family=\"Helvetica,sans-Serif\" font-size=\"14.00\">value = [177, 8]</text>\n<text text-anchor=\"middle\" x=\"504.5\" y=\"-7.8\" font-family=\"Helvetica,sans-Serif\" font-size=\"14.00\">class = &#45;1</text>\n</g>\n<!-- 10&#45;&gt;12 -->\n<g id=\"edge12\" class=\"edge\">\n<title>10&#45;&gt;12</title>\n<path fill=\"none\" stroke=\"black\" d=\"M496.97,-103.73C497.88,-95.43 498.84,-86.67 499.76,-78.28\"/>\n<polygon fill=\"black\" stroke=\"black\" points=\"503.24,-78.62 500.85,-68.3 496.28,-77.86 503.24,-78.62\"/>\n</g>\n<!-- 15 -->\n<g id=\"node16\" class=\"node\">\n<title>15</title>\n<path fill=\"#5eafea\" stroke=\"black\" d=\"M851.5,-187C851.5,-187 743.5,-187 743.5,-187 737.5,-187 731.5,-181 731.5,-175 731.5,-175 731.5,-116 731.5,-116 731.5,-110 737.5,-104 743.5,-104 743.5,-104 851.5,-104 851.5,-104 857.5,-104 863.5,-110 863.5,-116 863.5,-116 863.5,-175 863.5,-175 863.5,-181 857.5,-187 851.5,-187\"/>\n<text text-anchor=\"middle\" x=\"797.5\" y=\"-171.8\" font-family=\"Helvetica,sans-Serif\" font-size=\"14.00\">web_traffic &lt;= &#45;0.5</text>\n<text text-anchor=\"middle\" x=\"797.5\" y=\"-156.8\" font-family=\"Helvetica,sans-Serif\" font-size=\"14.00\">gini = 0.265</text>\n<text text-anchor=\"middle\" x=\"797.5\" y=\"-141.8\" font-family=\"Helvetica,sans-Serif\" font-size=\"14.00\">samples = 1578</text>\n<text text-anchor=\"middle\" x=\"797.5\" y=\"-126.8\" font-family=\"Helvetica,sans-Serif\" font-size=\"14.00\">value = [248, 1330]</text>\n<text text-anchor=\"middle\" x=\"797.5\" y=\"-111.8\" font-family=\"Helvetica,sans-Serif\" font-size=\"14.00\">class = 1</text>\n</g>\n<!-- 14&#45;&gt;15 -->\n<g id=\"edge15\" class=\"edge\">\n<title>14&#45;&gt;15</title>\n<path fill=\"none\" stroke=\"black\" d=\"M797.5,-222.91C797.5,-214.65 797.5,-205.86 797.5,-197.3\"/>\n<polygon fill=\"black\" stroke=\"black\" points=\"801,-197.02 797.5,-187.02 794,-197.02 801,-197.02\"/>\n</g>\n<!-- 18 -->\n<g id=\"node19\" class=\"node\">\n<title>18</title>\n<path fill=\"#41a1e6\" stroke=\"black\" d=\"M1051,-187C1051,-187 894,-187 894,-187 888,-187 882,-181 882,-175 882,-175 882,-116 882,-116 882,-110 888,-104 894,-104 894,-104 1051,-104 1051,-104 1057,-104 1063,-110 1063,-116 1063,-116 1063,-175 1063,-175 1063,-181 1057,-187 1051,-187\"/>\n<text text-anchor=\"middle\" x=\"972.5\" y=\"-171.8\" font-family=\"Helvetica,sans-Serif\" font-size=\"14.00\">having_sub_domain &lt;= 0.5</text>\n<text text-anchor=\"middle\" x=\"972.5\" y=\"-156.8\" font-family=\"Helvetica,sans-Serif\" font-size=\"14.00\">gini = 0.07</text>\n<text text-anchor=\"middle\" x=\"972.5\" y=\"-141.8\" font-family=\"Helvetica,sans-Serif\" font-size=\"14.00\">samples = 3253</text>\n<text text-anchor=\"middle\" x=\"972.5\" y=\"-126.8\" font-family=\"Helvetica,sans-Serif\" font-size=\"14.00\">value = [119, 3134]</text>\n<text text-anchor=\"middle\" x=\"972.5\" y=\"-111.8\" font-family=\"Helvetica,sans-Serif\" font-size=\"14.00\">class = 1</text>\n</g>\n<!-- 14&#45;&gt;18 -->\n<g id=\"edge18\" class=\"edge\">\n<title>14&#45;&gt;18</title>\n<path fill=\"none\" stroke=\"black\" d=\"M858.22,-222.91C872.74,-213.2 888.35,-202.76 903.23,-192.81\"/>\n<polygon fill=\"black\" stroke=\"black\" points=\"905.52,-195.49 911.89,-187.02 901.63,-189.67 905.52,-195.49\"/>\n</g>\n<!-- 16 -->\n<g id=\"node17\" class=\"node\">\n<title>16</title>\n<path fill=\"#3c9ee5\" stroke=\"black\" d=\"M712,-68C712,-68 619,-68 619,-68 613,-68 607,-62 607,-56 607,-56 607,-12 607,-12 607,-6 613,0 619,0 619,0 712,0 712,0 718,0 724,-6 724,-12 724,-12 724,-56 724,-56 724,-62 718,-68 712,-68\"/>\n<text text-anchor=\"middle\" x=\"665.5\" y=\"-52.8\" font-family=\"Helvetica,sans-Serif\" font-size=\"14.00\">gini = 0.027</text>\n<text text-anchor=\"middle\" x=\"665.5\" y=\"-37.8\" font-family=\"Helvetica,sans-Serif\" font-size=\"14.00\">samples = 742</text>\n<text text-anchor=\"middle\" x=\"665.5\" y=\"-22.8\" font-family=\"Helvetica,sans-Serif\" font-size=\"14.00\">value = [10, 732]</text>\n<text text-anchor=\"middle\" x=\"665.5\" y=\"-7.8\" font-family=\"Helvetica,sans-Serif\" font-size=\"14.00\">class = 1</text>\n</g>\n<!-- 15&#45;&gt;16 -->\n<g id=\"edge16\" class=\"edge\">\n<title>15&#45;&gt;16</title>\n<path fill=\"none\" stroke=\"black\" d=\"M748.35,-103.73C736.91,-94.24 724.76,-84.16 713.38,-74.72\"/>\n<polygon fill=\"black\" stroke=\"black\" points=\"715.57,-71.99 705.64,-68.3 711.1,-77.38 715.57,-71.99\"/>\n</g>\n<!-- 17 -->\n<g id=\"node18\" class=\"node\">\n<title>17</title>\n<path fill=\"#88c4ef\" stroke=\"black\" d=\"M855,-68C855,-68 754,-68 754,-68 748,-68 742,-62 742,-56 742,-56 742,-12 742,-12 742,-6 748,0 754,0 754,0 855,0 855,0 861,0 867,-6 867,-12 867,-12 867,-56 867,-56 867,-62 861,-68 855,-68\"/>\n<text text-anchor=\"middle\" x=\"804.5\" y=\"-52.8\" font-family=\"Helvetica,sans-Serif\" font-size=\"14.00\">gini = 0.407</text>\n<text text-anchor=\"middle\" x=\"804.5\" y=\"-37.8\" font-family=\"Helvetica,sans-Serif\" font-size=\"14.00\">samples = 836</text>\n<text text-anchor=\"middle\" x=\"804.5\" y=\"-22.8\" font-family=\"Helvetica,sans-Serif\" font-size=\"14.00\">value = [238, 598]</text>\n<text text-anchor=\"middle\" x=\"804.5\" y=\"-7.8\" font-family=\"Helvetica,sans-Serif\" font-size=\"14.00\">class = 1</text>\n</g>\n<!-- 15&#45;&gt;17 -->\n<g id=\"edge17\" class=\"edge\">\n<title>15&#45;&gt;17</title>\n<path fill=\"none\" stroke=\"black\" d=\"M800.11,-103.73C800.64,-95.43 801.2,-86.67 801.73,-78.28\"/>\n<polygon fill=\"black\" stroke=\"black\" points=\"805.23,-78.5 802.37,-68.3 798.24,-78.06 805.23,-78.5\"/>\n</g>\n<!-- 19 -->\n<g id=\"node20\" class=\"node\">\n<title>19</title>\n<path fill=\"#46a3e7\" stroke=\"black\" d=\"M1019.5,-68C1019.5,-68 911.5,-68 911.5,-68 905.5,-68 899.5,-62 899.5,-56 899.5,-56 899.5,-12 899.5,-12 899.5,-6 905.5,0 911.5,0 911.5,0 1019.5,0 1019.5,0 1025.5,0 1031.5,-6 1031.5,-12 1031.5,-12 1031.5,-56 1031.5,-56 1031.5,-62 1025.5,-68 1019.5,-68\"/>\n<text text-anchor=\"middle\" x=\"965.5\" y=\"-52.8\" font-family=\"Helvetica,sans-Serif\" font-size=\"14.00\">gini = 0.114</text>\n<text text-anchor=\"middle\" x=\"965.5\" y=\"-37.8\" font-family=\"Helvetica,sans-Serif\" font-size=\"14.00\">samples = 1717</text>\n<text text-anchor=\"middle\" x=\"965.5\" y=\"-22.8\" font-family=\"Helvetica,sans-Serif\" font-size=\"14.00\">value = [104, 1613]</text>\n<text text-anchor=\"middle\" x=\"965.5\" y=\"-7.8\" font-family=\"Helvetica,sans-Serif\" font-size=\"14.00\">class = 1</text>\n</g>\n<!-- 18&#45;&gt;19 -->\n<g id=\"edge19\" class=\"edge\">\n<title>18&#45;&gt;19</title>\n<path fill=\"none\" stroke=\"black\" d=\"M969.89,-103.73C969.36,-95.43 968.8,-86.67 968.27,-78.28\"/>\n<polygon fill=\"black\" stroke=\"black\" points=\"971.76,-78.06 967.63,-68.3 964.77,-78.5 971.76,-78.06\"/>\n</g>\n<!-- 20 -->\n<g id=\"node21\" class=\"node\">\n<title>20</title>\n<path fill=\"#3b9ee5\" stroke=\"black\" d=\"M1163,-68C1163,-68 1062,-68 1062,-68 1056,-68 1050,-62 1050,-56 1050,-56 1050,-12 1050,-12 1050,-6 1056,0 1062,0 1062,0 1163,0 1163,0 1169,0 1175,-6 1175,-12 1175,-12 1175,-56 1175,-56 1175,-62 1169,-68 1163,-68\"/>\n<text text-anchor=\"middle\" x=\"1112.5\" y=\"-52.8\" font-family=\"Helvetica,sans-Serif\" font-size=\"14.00\">gini = 0.019</text>\n<text text-anchor=\"middle\" x=\"1112.5\" y=\"-37.8\" font-family=\"Helvetica,sans-Serif\" font-size=\"14.00\">samples = 1536</text>\n<text text-anchor=\"middle\" x=\"1112.5\" y=\"-22.8\" font-family=\"Helvetica,sans-Serif\" font-size=\"14.00\">value = [15, 1521]</text>\n<text text-anchor=\"middle\" x=\"1112.5\" y=\"-7.8\" font-family=\"Helvetica,sans-Serif\" font-size=\"14.00\">class = 1</text>\n</g>\n<!-- 18&#45;&gt;20 -->\n<g id=\"edge20\" class=\"edge\">\n<title>18&#45;&gt;20</title>\n<path fill=\"none\" stroke=\"black\" d=\"M1024.63,-103.73C1036.76,-94.24 1049.65,-84.16 1061.72,-74.72\"/>\n<polygon fill=\"black\" stroke=\"black\" points=\"1064.2,-77.22 1069.93,-68.3 1059.89,-71.7 1064.2,-77.22\"/>\n</g>\n</g>\n</svg>\n",
            "text/plain": [
              "<graphviz.sources.Source at 0x7a6d15751d80>"
            ]
          },
          "metadata": {},
          "execution_count": 39
        }
      ]
    },
    {
      "cell_type": "code",
      "source": [
        "#Random Forest\n",
        "from sklearn.ensemble import RandomForestClassifier\n",
        "\n",
        "rnd_clf = RandomForestClassifier(n_estimators=500, max_leaf_nodes=16,\n",
        "                                 n_jobs=-1, random_state=42)\n",
        "rnd_clf.fit(train_set, y_train)\n",
        "y_pred_rf = rnd_clf.predict(train_set)\n",
        "\n",
        "#performance testing\n",
        "\n",
        "#confusion matrixes\n",
        "y_train_pred_rf = cross_val_predict(rnd_clf, train_set, y_train, cv=3)\n",
        "cm_train = confusion_matrix(y_train, y_train_pred_rf)\n",
        "print(\"Confusion matrix of RandomForest train set: \\n\", cm_train)\n",
        "\n",
        "y_test_pred_rf = cross_val_predict(rnd_clf, test_set, y_test, cv=3)\n",
        "cm_test = confusion_matrix(y_test, y_test_pred_rf)\n",
        "print(\"Confusion matrix of RandomForest test set: \\n\", cm_test)\n",
        "\n",
        "#precision scores\n",
        "print(\"RandomForest train set precision score: \",precision_score(y_train, y_train_pred_rf))\n",
        "print(\"RandomForest test set precision score: \",precision_score(y_test, y_test_pred_rf))\n",
        "\n",
        "#recall scores\n",
        "print(\"RandomForest train set recall score: \",recall_score(y_train, y_train_pred_rf))\n",
        "print(\"RandomForest test set recall score: \",recall_score(y_test, y_test_pred_rf))\n",
        "\n",
        "#f1 scores\n",
        "print(\"RandomForest train set F1 score: \", f1_score(y_train, y_train_pred_rf))\n",
        "print(\"RandomForest test set F1 score: \", f1_score(y_test, y_test_pred_rf))\n"
      ],
      "metadata": {
        "id": "4DhYj6ZqQFs3",
        "colab": {
          "base_uri": "https://localhost:8080/"
        },
        "outputId": "47540aa3-de4c-4a1c-d073-675330d0a0ae"
      },
      "execution_count": null,
      "outputs": [
        {
          "output_type": "stream",
          "name": "stdout",
          "text": [
            "Confusion matrix of RandomForest train set: \n",
            " [[3556  381]\n",
            " [ 280 4627]]\n",
            "Confusion matrix of RandomForest test set: \n",
            " [[ 858  103]\n",
            " [  68 1182]]\n",
            "RandomForest train set precision score:  0.9239217252396166\n",
            "RandomForest test set precision score:  0.9198443579766536\n",
            "RandomForest train set recall score:  0.9429386590584878\n",
            "RandomForest test set recall score:  0.9456\n",
            "RandomForest train set F1 score:  0.9333333333333333\n",
            "RandomForest test set F1 score:  0.9325443786982248\n"
          ]
        }
      ]
    }
  ]
}